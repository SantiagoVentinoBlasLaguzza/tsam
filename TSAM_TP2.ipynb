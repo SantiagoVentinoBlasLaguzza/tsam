{
  "nbformat": 4,
  "nbformat_minor": 0,
  "metadata": {
    "colab": {
      "provenance": []
    },
    "kernelspec": {
      "name": "python3",
      "display_name": "Python 3"
    }
  },
  "cells": [
    {
      "cell_type": "markdown",
      "metadata": {
        "id": "1knQ4GQUi7Vh"
      },
      "source": [
        "# **Tópicos Selectos en Aprendizaje Maquinal**\n",
        "\n",
        "**Doctorado en Ingeniería: mención en Señales, Sistemas e Inteligencia Computacional**\n",
        "\n",
        "**FICH - UNL -** **Instituto de investigación en Señales, Sistemas e Inteligencia Computacional**\n",
        "\n",
        "<img src=http://sinc.unl.edu.ar/wp-content/themes/sinci/img/sinc-logo.png width=\"150\">\n"
      ]
    },
    {
      "cell_type": "markdown",
      "metadata": {
        "id": "W4LbbmFuvrRF"
      },
      "source": [
        "Consultas: *Leandro Vignolo*\n",
        "ldvignolo@sinc.unl.edu.ar"
      ]
    },
    {
      "cell_type": "markdown",
      "metadata": {
        "id": "qhZ6izIEma94"
      },
      "source": [
        "## **Trabajo práctico Nº 2: problemas de clasificación con datos reales**\n",
        "\n",
        "**Modificar los parámetros correspondientes a cada método de clasificación y de validación cruzada, según se indica en la guía de TP disponible en http://tsam-fich.wikidot.com/apuntes**\n",
        "\n",
        "**Para una referencia de los métodos y sus parámetros ver la documentación de sklearn en https://scikit-learn.org/**\n",
        "\n",
        "\n",
        "---\n",
        "\n",
        "\n",
        "***Guardar una copia personal de la Colab para trabajar en ella y guardar los cambios***\n",
        "\n",
        "\n",
        "---\n",
        "\n",
        "\n"
      ]
    },
    {
      "cell_type": "markdown",
      "metadata": {
        "id": "iveaukF7Mo4f"
      },
      "source": [
        "### **Carga de librerías**"
      ]
    },
    {
      "cell_type": "code",
      "metadata": {
        "id": "xqdyOy5aKoru",
        "colab": {
          "base_uri": "https://localhost:8080/"
        },
        "outputId": "8472a5bf-5ce5-4c0d-9f1f-b4d8a1a8c688"
      },
      "source": [
        "from sklearn.datasets import load_iris\n",
        "from sklearn.tree import DecisionTreeClassifier\n",
        "from sklearn.cluster import KMeans\n",
        "from sklearn.utils import shuffle\n",
        "from collections import Counter\n",
        "import numpy as np\n",
        "from sklearn.neural_network import MLPRegressor, MLPClassifier\n",
        "from sklearn.linear_model import Perceptron\n",
        "from sklearn.metrics.pairwise import rbf_kernel\n",
        "from sklearn import svm\n",
        "from sklearn.ensemble import RandomForestClassifier\n",
        "from sklearn.naive_bayes import GaussianNB, MultinomialNB\n",
        "from sklearn.model_selection import train_test_split, KFold, StratifiedKFold\n",
        "from sklearn.feature_selection import SelectFromModel, SelectKBest, f_classif\n",
        "from sklearn.metrics import accuracy_score, balanced_accuracy_score, recall_score\n",
        "from sklearn.preprocessing import StandardScaler\n",
        "from sklearn.decomposition import PCA\n",
        "import matplotlib.pyplot as plt\n",
        "import pandas as pd\n",
        "from tabulate import tabulate\n",
        "from warnings import simplefilter\n",
        "import time\n",
        "from sklearn.feature_selection import RFE\n",
        "from sklearn.svm import LinearSVC\n",
        "from sklearn.exceptions import ConvergenceWarning\n",
        "simplefilter(\"ignore\", category=ConvergenceWarning)\n",
        "\n",
        "# instalar librería adicional para el método Relief\n",
        "!pip install sklearn-relief\n",
        "import sklearn_relief as relief\n",
        "\n",
        "# Para una referencia detallada de los métodos empleados y los parámetros correspondientes ver la documentación de sklearn en https://scikit-learn.org/stable/index.html"
      ],
      "execution_count": null,
      "outputs": [
        {
          "output_type": "stream",
          "text": [
            "Collecting sklearn-relief\n",
            "  Downloading https://files.pythonhosted.org/packages/93/ba/c043b16fa8ec373ae92d4448129a4788e0446d893653a88c2c53dc6dcb3c/sklearn_relief-1.0.0b2-py3-none-any.whl\n",
            "Requirement already satisfied: scipy>=1.0.0 in /usr/local/lib/python3.6/dist-packages (from sklearn-relief) (1.4.1)\n",
            "Requirement already satisfied: scikit-learn>=0.19.1 in /usr/local/lib/python3.6/dist-packages (from sklearn-relief) (0.22.2.post1)\n",
            "Requirement already satisfied: numpy>=1.13.3 in /usr/local/lib/python3.6/dist-packages (from sklearn-relief) (1.18.5)\n",
            "Requirement already satisfied: joblib>=0.11 in /usr/local/lib/python3.6/dist-packages (from scikit-learn>=0.19.1->sklearn-relief) (0.17.0)\n",
            "Installing collected packages: sklearn-relief\n",
            "Successfully installed sklearn-relief-1.0.0b2\n"
          ],
          "name": "stdout"
        }
      ]
    },
    {
      "cell_type": "markdown",
      "metadata": {
        "id": "MgbilvI2MZIH"
      },
      "source": [
        "\n",
        "### **Definiciones de clasificadores**\n",
        "***Modificar los parámetros de cada método***\n"
      ]
    },
    {
      "cell_type": "markdown",
      "metadata": {
        "id": "ajfrXqITCNjV"
      },
      "source": [
        "Naive Bayes"
      ]
    },
    {
      "cell_type": "code",
      "metadata": {
        "id": "mFnCuM7IM3Dt"
      },
      "source": [
        "# 1 Naive Bayes\n",
        "def clf_NB(X_train, X_test, y_train, y_test):\n",
        "\n",
        "    classes = np.unique(y_train)\n",
        "    nt = y_train.shape[0]\n",
        "    props = []\n",
        "    for i in range(0,len(classes)):\n",
        "        props.append( np.sum(y_train==classes[i])/nt )\n",
        "\n",
        "    bayes = GaussianNB(priors=props, var_smoothing=1e-09)\n",
        "    # entrenamiento\n",
        "    bayes.fit(X_train, y_train)\n",
        "    # predicción sobre datos de prueba\n",
        "    y_pred = bayes.predict(X_test)\n",
        "    # cálculo de métricas\n",
        "    acc = accuracy_score(y_test, y_pred)\n",
        "    uar = balanced_accuracy_score(y_test, y_pred)\n",
        "    rec = recall_score(y_test, y_pred, average=None)[1]\n",
        "    nf = X_train.shape[1]\n",
        "    return acc, uar, rec, nf"
      ],
      "execution_count": null,
      "outputs": []
    },
    {
      "cell_type": "markdown",
      "metadata": {
        "id": "O4YfzXsQCSNT"
      },
      "source": [
        "Perceptrón Multicapa"
      ]
    },
    {
      "cell_type": "code",
      "metadata": {
        "id": "YZoebcRlNDoB"
      },
      "source": [
        "# 2 MLP\n",
        "def clf_MLP(X_train, X_test, y_train, y_test):\n",
        "    clf = MLPClassifier(hidden_layer_sizes = (5, 3),      # arquitectura de la red\n",
        "                        activation = 'relu',              # función de activación\n",
        "                        solver = 'adam',                  # algoritmo de optimización\n",
        "                        learning_rate_init = 0.001,       # tasa de aprendizaje\n",
        "                        max_iter = 300,                   # épocas de entrenamiento\n",
        "                        tol = 0.0000001,                  # tolerancia de error\n",
        "                        verbose = False)                  # mostrar salida durante entrenamiento\n",
        "    # entrenamiento\n",
        "    clf.fit(X_train, y_train)\n",
        "    # predicción sobre datos de prueba\n",
        "    y_pred = clf.predict(X_test)\n",
        "    # cálculo de métricas\n",
        "    acc = accuracy_score(y_test, y_pred)\n",
        "    uar = balanced_accuracy_score(y_test, y_pred)\n",
        "    rec = recall_score(y_test, y_pred, average=None)[1]\n",
        "    nf = X_train.shape[1]\n",
        "    return acc, uar, rec, nf"
      ],
      "execution_count": null,
      "outputs": []
    },
    {
      "cell_type": "markdown",
      "metadata": {
        "id": "Vd3n0SBdCY03"
      },
      "source": [
        "Red Nuronal con Funciones de Base Radial"
      ]
    },
    {
      "cell_type": "code",
      "metadata": {
        "id": "QL16GfrINiF8"
      },
      "source": [
        "# 3 RBF\n",
        "def clf_RBF(X_train, X_test, y_train, y_test):\n",
        "\n",
        "    # entreno centroides con Kmeans usando datos de train\n",
        "    model = KMeans(n_clusters=8)                 # definir cantidad de centroides\n",
        "    model.fit(X_train)\n",
        "\n",
        "    sigma = np.ones(model.n_clusters)\n",
        "    Z_train = np.empty([X_train.shape[0],model.n_clusters])\n",
        "    Z_test  = np.empty([X_test.shape[0],model.n_clusters])\n",
        "    # calculo salidas de la capa RBF (mapeo)\n",
        "    for clus in range(0,model.n_clusters):\n",
        "        # estimación de la STD media para cada clúster/centroide sobre datos de entrenamiento\n",
        "        aux = X_train[model.labels_==clus]\n",
        "        if len(aux)!=0:                                # si el centroide no quedó sin patrones\n",
        "            sigma[clus] = np.mean(np.std(aux,axis=0))  # STD promedio sobre las dimensiones\n",
        "        if (sigma[clus]==0):\n",
        "            sigma[clus] = 1.0\n",
        "        # obtengo la salida de cada RBF con datos de train y test\n",
        "        # las salidas las RBF son las nuevas features y las guardo en las columnas de los array para train y test\n",
        "        Z_train[:,clus] = rbf_kernel([model.cluster_centers_[clus]], X_train, gamma=1.0/(sigma[clus]**2)).reshape(X_train.shape[0])\n",
        "        Z_test[:,clus]  = rbf_kernel([model.cluster_centers_[clus]], X_test,  gamma=1.0/(sigma[clus]**2)).reshape(X_test.shape[0])\n",
        "\n",
        "    # defino y entreno la capa de salida\n",
        "    clf = Perceptron(tol=1e-3, random_state=0)   # definir tolerancia de error\n",
        "    clf.fit(Z_train, y_train)\n",
        "    # obtengo las predicciones de la capa de salida para los datos de prueba\n",
        "    y_pred = clf.predict(Z_test)\n",
        "    # métricas\n",
        "    acc = accuracy_score(y_test, y_pred)\n",
        "    uar = balanced_accuracy_score(y_test, y_pred)\n",
        "    rec = recall_score(y_test, y_pred, average=None)[1]\n",
        "    nf = X_train.shape[1]\n",
        "    return acc, uar, rec, nf"
      ],
      "execution_count": null,
      "outputs": []
    },
    {
      "cell_type": "markdown",
      "metadata": {
        "id": "IiJN_Y7qCnDG"
      },
      "source": [
        "Árbol de Decisión"
      ]
    },
    {
      "cell_type": "code",
      "metadata": {
        "id": "31LCypNWNpUU"
      },
      "source": [
        "## 4 Árbol de decisión\n",
        "def clf_TREE(X_train, X_test, y_train, y_test):\n",
        "    dtree = DecisionTreeClassifier(random_state=0, max_depth=2) # definición y seteo de parámetros del clasificador\n",
        "    # entrenamiento\n",
        "    dtree.fit(X_train, y_train)\n",
        "    # prueba\n",
        "    y_pred = dtree.predict(X_test)\n",
        "    # métricas\n",
        "    acc = accuracy_score(y_test, y_pred)\n",
        "    uar = balanced_accuracy_score(y_test, y_pred)\n",
        "    rec = recall_score(y_test, y_pred, average=None)[1]\n",
        "    nf = X_train.shape[1]\n",
        "    return acc, uar, rec, nf"
      ],
      "execution_count": null,
      "outputs": []
    },
    {
      "cell_type": "markdown",
      "metadata": {
        "id": "rneGCYS4Cud0"
      },
      "source": [
        "Random Forest"
      ]
    },
    {
      "cell_type": "code",
      "metadata": {
        "id": "sqtQrS3bNsoN"
      },
      "source": [
        "## 5 RandomForest\n",
        "def clf_RF(X_train, X_test, y_train, y_test):\n",
        "    clf = RandomForestClassifier(max_depth=None, random_state=0, n_estimators=100) # parámetros del clasificador RandomForest\n",
        "    # entrenamiento\n",
        "    clf.fit(X_train, y_train)\n",
        "    # prueba\n",
        "    y_pred = clf.predict(X_test)\n",
        "    # métricas\n",
        "    acc = accuracy_score(y_test, y_pred)\n",
        "    uar = balanced_accuracy_score(y_test, y_pred)\n",
        "    rec = recall_score(y_test, y_pred, average=None)[1]\n",
        "    nf = X_train.shape[1]\n",
        "    return acc, uar, rec, nf"
      ],
      "execution_count": null,
      "outputs": []
    },
    {
      "cell_type": "markdown",
      "metadata": {
        "id": "2qudrWb2Cxlf"
      },
      "source": [
        "Máquina de Soporte Vectorial"
      ]
    },
    {
      "cell_type": "code",
      "metadata": {
        "id": "jFWQzdnZNv68"
      },
      "source": [
        "## 6 SVM\n",
        "def clf_SVM(X_train, X_test, y_train, y_test):\n",
        "    #clf = svm.SVC(kernel='linear')                               # SVM Kernel Lineal\n",
        "    clf = svm.SVC(kernel='poly', degree=2, coef0=1, gamma='auto') # SVM Kernel polinomial\n",
        "    #clf = svm.SVC(kernel='rbf',gamma=1)                          # SVM Kernel RBF\n",
        "    # Entrenamiento\n",
        "    clf.fit(X_train, y_train)\n",
        "    # Predicción sobre datos de prueba\n",
        "    y_pred = clf.predict(X_test)\n",
        "    # métricas\n",
        "    acc = accuracy_score(y_test, y_pred)\n",
        "    uar = balanced_accuracy_score(y_test, y_pred)\n",
        "    rec = recall_score(y_test, y_pred, average=None)[1]\n",
        "    nf = X_train.shape[1]\n",
        "    return acc, uar, rec, nf"
      ],
      "execution_count": null,
      "outputs": []
    },
    {
      "cell_type": "markdown",
      "metadata": {
        "id": "rtBNr7pcC2VZ"
      },
      "source": [
        "Método de Selección de Características y Máquina de Soporte Vectorial"
      ]
    },
    {
      "cell_type": "code",
      "metadata": {
        "id": "hEXQvvHeN6-d"
      },
      "source": [
        "## 7 FEATURE SELECTION + SVM\n",
        "def clf_FS_SVM(X_train, X_test, y_train, y_test):\n",
        "\n",
        "    # defino el método de ranking con criterio de ANOVA F (f_classif)\n",
        "    FS = SelectKBest(f_classif, k=2)        # definir cuántas características se desean seleccionar\n",
        "    # realizo la selección en base a datos de train\n",
        "    FS = FS.fit(X_train, y_train)\n",
        "    # mapeo / aplico la selección en train y test\n",
        "    X_train_new = FS.transform(X_train)\n",
        "    X_test_new  = FS.transform(X_test)\n",
        "    # defino clasificador SVM\n",
        "    clf = svm.SVC(kernel='rbf', gamma=1) # Kernel RBF\n",
        "    # entreno el clasificador\n",
        "    clf.fit(X_train_new, y_train)\n",
        "    # predicción en datos de prueba\n",
        "    y_pred = clf.predict(X_test_new)\n",
        "    # métricas\n",
        "    acc = accuracy_score(y_test, y_pred)\n",
        "    uar = balanced_accuracy_score(y_test, y_pred)\n",
        "    rec = recall_score(y_test, y_pred, average=None)[1]\n",
        "    nf = X_train_new.shape[1]\n",
        "    return acc, uar, rec, nf"
      ],
      "execution_count": null,
      "outputs": []
    },
    {
      "cell_type": "markdown",
      "metadata": {
        "id": "arghPGNTDAYV"
      },
      "source": [
        "Autoencoder y Máquina de Soporte Vectorial"
      ]
    },
    {
      "cell_type": "code",
      "metadata": {
        "id": "UkGVMD_4OCJz"
      },
      "source": [
        "## 8 Autoencoder + SVM\n",
        "\n",
        "def clf_AE_SVM(X_train, X_test, y_train, y_test, plot=False, ax1=None, ax2=None):\n",
        "\n",
        "\n",
        "    n_input = len(X_train[0])\n",
        "    # Estructura del codificador\n",
        "    n_encoder1 = 500\n",
        "    n_encoder2 = 300\n",
        "    n_latent = 2\n",
        "    # Estructura del decodificador\n",
        "    n_decoder2 = 300\n",
        "    n_decoder1 = 500\n",
        "    # definición del Autoencoder\n",
        "    AE = MLPRegressor(hidden_layer_sizes = (n_encoder1, n_encoder2, n_latent, n_decoder2, n_decoder1),\n",
        "                      activation = 'tanh',\n",
        "                      solver = 'adam',\n",
        "                      learning_rate_init = 0.0001,\n",
        "                      max_iter = 300,\n",
        "                      tol = 0.0000001,\n",
        "                      verbose = False)\n",
        "\n",
        "    # Entrenamiento del autoencoder\n",
        "    AE.fit(X_train, X_train)\n",
        "\n",
        "    # defino función para obtener representación latente\n",
        "    def encoder(data):\n",
        "        data = np.asmatrix(data)\n",
        "        encoder1 = data*AE.coefs_[0] + AE.intercepts_[0]\n",
        "        encoder1 = (np.exp(encoder1) - np.exp(-encoder1))/(np.exp(encoder1) + np.exp(-encoder1))\n",
        "        encoder2 = encoder1*AE.coefs_[1] + AE.intercepts_[1]\n",
        "        encoder2 = (np.exp(encoder2) - np.exp(-encoder2))/(np.exp(encoder2) + np.exp(-encoder2))\n",
        "        latent = encoder2*AE.coefs_[2] + AE.intercepts_[2]\n",
        "        latent = (np.exp(latent) - np.exp(-latent))/(np.exp(latent) + np.exp(-latent))\n",
        "        return np.asarray(latent)\n",
        "\n",
        "    # mapeo train / test\n",
        "    train_latent = encoder(X_train)\n",
        "    test_latent = encoder(X_test)\n",
        "\n",
        "    if plot:\n",
        "        ax1.scatter(train_latent[:,0], train_latent[:,1], s=50, c=y_train, marker=\"o\")\n",
        "        ax1.set_xlabel(\"Latent1\")\n",
        "        ax1.set_ylabel(\"Latent2\")\n",
        "        ax1.set_title(\"Train Data\")\n",
        "        ax2.scatter(test_latent[:,0],  test_latent[:,1],  s=50, c=y_test, marker=\"o\")\n",
        "        ax2.set_xlabel(\"Latent1\")\n",
        "        ax2.set_ylabel(\"Latent2\")\n",
        "        ax2.set_title(\"Test Data\")\n",
        "\n",
        "    # entrenamiento de un SVM empleando la representación latente\n",
        "    #clf = svm.SVC(kernel='linear') # SVM Kernel lineal\n",
        "    clf = svm.SVC(kernel='poly', degree=2, coef0=1, gamma='auto') # SVM kernel polinomial\n",
        "    #clf = svm.SVC(kernel='rbf',gamma=1) # SVM Kernel RBF\n",
        "    clf.fit(train_latent, y_train)\n",
        "    y_pred = clf.predict(test_latent)\n",
        "    # métricas\n",
        "    acc = accuracy_score(y_test, y_pred)\n",
        "    uar = balanced_accuracy_score(y_test, y_pred)\n",
        "    rec = recall_score(y_test, y_pred, average=None)[1]\n",
        "    nf = train_latent.shape[1]\n",
        "    return acc, uar, rec, nf"
      ],
      "execution_count": null,
      "outputs": []
    },
    {
      "cell_type": "markdown",
      "metadata": {
        "id": "MformfX1DGna"
      },
      "source": [
        "k-Medias"
      ]
    },
    {
      "cell_type": "code",
      "metadata": {
        "id": "bfwSmxWCOFNt"
      },
      "source": [
        "## 9 k-means\n",
        "def clf_kMeans(X_train, X_test, y_train, y_test):\n",
        "    # entreno el algoritmo de clustering\n",
        "    model = KMeans(n_clusters=8)\n",
        "    model.fit(X_train)\n",
        "\n",
        "    # defino vector para asignar las etiquetas a los datos de entrenamiento\n",
        "    train_Labels = np.empty(len(X_train))\n",
        "    # defino vector para asignar una etiqueta de clase a cada clúster\n",
        "    cluster_labels = np.empty(model.n_clusters)\n",
        "    # para cada clúster\n",
        "    for clus in range(0,model.n_clusters):\n",
        "        # model.labels_ indica el clúster al que pertenece cada patrón\n",
        "        original_labels = y_train[model.labels_==clus]\n",
        "        # original_labels contiene las etiquetas de los elementos del clúster\n",
        "        count = Counter(original_labels)\n",
        "        # asigno etiqueta de clase a cada clúster\n",
        "        cluster_labels[clus] = max(count, key=count.get)\n",
        "        # asigno etiqueta de clase a cada patrón de train en ese clúster\n",
        "        train_Labels[model.labels_==clus] = cluster_labels[clus]\n",
        "\n",
        "    # obtengo un clúster para cada dato de test\n",
        "    clus_test_pred = model.predict(X_test)\n",
        "    # obtengo etiqueta para cada dato de test\n",
        "    y_pred = cluster_labels[clus_test_pred]\n",
        "    # métricas\n",
        "    acc = accuracy_score(y_test, y_pred)\n",
        "    uar = balanced_accuracy_score(y_test, y_pred)\n",
        "    rec = recall_score(y_test, y_pred, average=None)[1]\n",
        "    nf = X_train.shape[1]\n",
        "    return acc, uar, rec, nf"
      ],
      "execution_count": null,
      "outputs": []
    },
    {
      "cell_type": "markdown",
      "metadata": {
        "id": "HEabOwJCOOfp"
      },
      "source": [
        "### **Ejercicio 1: dataset \"Diabetes\"**\n"
      ]
    },
    {
      "cell_type": "code",
      "metadata": {
        "id": "R71xGWUBPRZZ"
      },
      "source": [
        "# defino lista de clasificadores\n",
        "classifiers = [\"clf_NB\",\"clf_MLP\",\"clf_RBF\",\"clf_TREE\",\"clf_RF\",\"clf_SVM\",\"clf_FS_SVM\",\"clf_AE_SVM\",\"clf_kMeans\"]\n",
        "\n",
        "# carga de datos\n",
        "data = pd.read_csv('https://raw.githubusercontent.com/jbrownlee/Datasets/master/pima-indians-diabetes.data.csv', header=None)\n",
        "# separo patrones en X y etiquetas en Y\n",
        "X = np.array(data)[:,0:8]\n",
        "Y = np.array(data)[:,8]\n",
        "# aleatorización de los datos\n",
        "X, Y = shuffle(X, Y, random_state=0)"
      ],
      "execution_count": null,
      "outputs": []
    },
    {
      "cell_type": "markdown",
      "metadata": {
        "id": "Odskfs81PdkS"
      },
      "source": [
        "**Validación cruzada: particionado simple train/test**\n"
      ]
    },
    {
      "cell_type": "code",
      "metadata": {
        "id": "TUlWMx8YPavK",
        "colab": {
          "base_uri": "https://localhost:8080/"
        },
        "outputId": "5f2d3032-fe48-495a-9194-7286db210228"
      },
      "source": [
        "# validación cruzada: partición train/test\n",
        "X_train, X_test, y_train, y_test = train_test_split(X, Y, test_size=0.3, random_state=0, shuffle=True, stratify=Y)\n",
        "\n",
        "# Estandarización de los datos\n",
        "scaler = StandardScaler()\n",
        "# Ajuste sobre de train\n",
        "scaler.fit(X_train)\n",
        "# transformación de datos train y test\n",
        "X_train = scaler.transform(X_train)\n",
        "X_test = scaler.transform(X_test)\n",
        "vacc = []\n",
        "vuar = []\n",
        "vrec = []\n",
        "vnf  = []\n",
        "# llamada a cada clasificador con el fold actual\n",
        "for clf in range(0,len(classifiers)):\n",
        "    acc, uar, rec, nf = locals()[classifiers[clf]](X_train, X_test, y_train, y_test)\n",
        "    # guardo las medidas de desempeño en un vector\n",
        "    vacc.append(acc)\n",
        "    vuar.append(uar)\n",
        "    vrec.append(rec)\n",
        "    vnf.append(nf)\n",
        "\n",
        "# imprimo una tabla con los resultados\n",
        "print(':::                      Simple CV                       :::')\n",
        "table = [[\"Clasificador\",\"ACC\", \"UAR\", \"Recall\", \"# Features\"]]\n",
        "for clf in range(0,len(classifiers)):\n",
        "    table.append([ classifiers[clf][4:], '%.4f' % vacc[clf], '%.4f' % vuar[clf], '%.4f' % vrec[clf], '%1.1f' % vnf[clf] ])\n",
        "print(tabulate(table, tablefmt=\"fancy_grid\", showindex=\"always\",stralign=\"center\"))"
      ],
      "execution_count": null,
      "outputs": [
        {
          "output_type": "stream",
          "text": [
            ":::                      Simple CV                       :::\n",
            "╒═══╤══════════════╤════════╤════════╤════════╤════════════╕\n",
            "│ 0 │ Clasificador │  ACC   │  UAR   │ Recall │ # Features │\n",
            "├───┼──────────────┼────────┼────────┼────────┼────────────┤\n",
            "│ 1 │      NB      │ 0.7273 │ 0.6849 │ 0.5432 │    8.0     │\n",
            "├───┼──────────────┼────────┼────────┼────────┼────────────┤\n",
            "│ 2 │     MLP      │ 0.7662 │ 0.7263 │ 0.5926 │    8.0     │\n",
            "├───┼──────────────┼────────┼────────┼────────┼────────────┤\n",
            "│ 3 │     RBF      │ 0.6147 │ 0.6551 │ 0.7901 │    8.0     │\n",
            "├───┼──────────────┼────────┼────────┼────────┼────────────┤\n",
            "│ 4 │     TREE     │ 0.7489 │ 0.6959 │ 0.5185 │    8.0     │\n",
            "├───┼──────────────┼────────┼────────┼────────┼────────────┤\n",
            "│ 5 │      RF      │ 0.7532 │ 0.6993 │ 0.5185 │    8.0     │\n",
            "├───┼──────────────┼────────┼────────┼────────┼────────────┤\n",
            "│ 6 │     SVM      │ 0.7619 │ 0.7173 │ 0.5679 │    8.0     │\n",
            "├───┼──────────────┼────────┼────────┼────────┼────────────┤\n",
            "│ 7 │    FS_SVM    │ 0.7446 │ 0.6841 │ 0.4815 │    2.0     │\n",
            "├───┼──────────────┼────────┼────────┼────────┼────────────┤\n",
            "│ 8 │    AE_SVM    │ 0.6970 │ 0.6133 │ 0.3333 │    2.0     │\n",
            "├───┼──────────────┼────────┼────────┼────────┼────────────┤\n",
            "│ 9 │    kMeans    │ 0.6753 │ 0.6109 │ 0.3951 │    8.0     │\n",
            "╘═══╧══════════════╧════════╧════════╧════════╧════════════╛\n"
          ],
          "name": "stdout"
        }
      ]
    },
    {
      "cell_type": "markdown",
      "metadata": {
        "id": "UDU7ICAqQC0H"
      },
      "source": [
        "**K-Fold Cross Validation**"
      ]
    },
    {
      "cell_type": "code",
      "metadata": {
        "id": "UpiNmHKvOkXa",
        "colab": {
          "base_uri": "https://localhost:8080/",
          "height": 391
        },
        "outputId": "6f1cd939-7edf-45db-9480-b827ec209745"
      },
      "source": [
        "NFfolds = 4   #  Modificar, siempre >=2\n",
        "\n",
        "# inicializo estructuras para guardar resultados\n",
        "Macc = [[] for i in range(len(classifiers))]\n",
        "Muar = [[] for i in range(len(classifiers))]\n",
        "Mrec = [[] for i in range(len(classifiers))]\n",
        "Mnf  = [[] for i in range(len(classifiers))]\n",
        "\n",
        "# Validación cruzada K-Fold (estratificada / no estratificada)\n",
        "\n",
        "kf = KFold(n_splits=NFfolds)                            # KFold no estratificado\n",
        "# kf = StratifiedKFold(n_splits=NFfolds)                # KFold estratificado\n",
        "\n",
        "for train_index, test_index in kf.split(X):\n",
        "\n",
        "    # asigno datos y etiquetas segun los índices del fold\n",
        "    X_train, X_test = X[train_index], X[test_index]\n",
        "    y_train, y_test = Y[train_index], Y[test_index]\n",
        "\n",
        "    # Estandarización de los datos (sobre cada fold)\n",
        "    scaler = StandardScaler()\n",
        "    # Ajuste sobre de train\n",
        "    scaler.fit(X_train)\n",
        "    # transformación de datos train y test\n",
        "    X_train = scaler.transform(X_train)\n",
        "    X_test = scaler.transform(X_test)\n",
        "\n",
        "    # llamada a cada clasificador con el fold actual\n",
        "    for clf in range(0,len(classifiers)):\n",
        "        acc, uar, rec, nf = locals()[classifiers[clf]](X_train, X_test, y_train, y_test)\n",
        "        # guardo las medidas de desempeño en un vector\n",
        "        Macc[clf].append(acc)\n",
        "        Muar[clf].append(uar)\n",
        "        Mrec[clf].append(rec)\n",
        "        Mnf[clf].append(nf)\n",
        "\n",
        "# convierto a array\n",
        "Macc = np.array(Macc)\n",
        "Muar = np.array(Muar)\n",
        "Mrec = np.array(Mrec)\n",
        "Mnf =  np.array(Mnf)\n",
        "# cálculo de estadísticas\n",
        "acc_mean = np.mean(Macc,axis=1)\n",
        "uar_mean = np.mean(Muar,axis=1)\n",
        "rec_mean = np.mean(Mrec,axis=1)\n",
        "nf_mean  = np.mean(Mnf,axis=1)\n",
        "acc_std = np.std(Macc,axis=1)\n",
        "uar_std = np.std(Muar,axis=1)\n",
        "rec_std = np.std(Mrec,axis=1)\n",
        "\n",
        "# imprimo una tabla con los resultados\n",
        "print(':::                                         k-Ffold CV                                             :::')\n",
        "table = [[\"Clasificador\",\"ACC Mean\",\"ACC STD\",\"UAR Mean\",\"UAR STD\", \"Recall Mean\",\"Recall STD\", \"# Features\"]]\n",
        "for clf in range(0,len(classifiers)):\n",
        "    table.append([classifiers[clf][4:], '%.4f' % acc_mean[clf], '%.4f' % acc_std[clf], '%.4f' % uar_mean[clf], '%.4f' % uar_std[clf], '%.4f' % rec_mean[clf], '%.4f' % rec_std[clf], '%1.1f' % nf_mean[clf]])\n",
        "print(tabulate(table, tablefmt=\"fancy_grid\", showindex=\"always\",stralign=\"center\"))"
      ],
      "execution_count": null,
      "outputs": [
        {
          "output_type": "stream",
          "text": [
            ":::                                         k-Ffold CV                                             :::\n",
            "╒═══╤══════════════╤══════════╤═════════╤══════════╤═════════╤═════════════╤════════════╤════════════╕\n",
            "│ 0 │ Clasificador │ ACC Mean │ ACC STD │ UAR Mean │ UAR STD │ Recall Mean │ Recall STD │ # Features │\n",
            "├───┼──────────────┼──────────┼─────────┼──────────┼─────────┼─────────────┼────────────┼────────────┤\n",
            "│ 1 │      NB      │  0.7474  │ 0.0277  │  0.7082  │ 0.0290  │   0.5784    │   0.0499   │    8.0     │\n",
            "├───┼──────────────┼──────────┼─────────┼──────────┼─────────┼─────────────┼────────────┼────────────┤\n",
            "│ 2 │     MLP      │  0.7552  │ 0.0116  │  0.7220  │ 0.0121  │   0.6119    │   0.0149   │    8.0     │\n",
            "├───┼──────────────┼──────────┼─────────┼──────────┼─────────┼─────────────┼────────────┼────────────┤\n",
            "│ 3 │     RBF      │  0.5612  │ 0.1247  │  0.5366  │ 0.0634  │   0.4552    │   0.4596   │    8.0     │\n",
            "├───┼──────────────┼──────────┼─────────┼──────────┼─────────┼─────────────┼────────────┼────────────┤\n",
            "│ 4 │     TREE     │  0.7396  │ 0.0152  │  0.6736  │ 0.0412  │   0.4552    │   0.1345   │    8.0     │\n",
            "├───┼──────────────┼──────────┼─────────┼──────────┼─────────┼─────────────┼────────────┼────────────┤\n",
            "│ 5 │      RF      │  0.7604  │ 0.0097  │  0.7130  │ 0.0138  │   0.5560    │   0.0386   │    8.0     │\n",
            "├───┼──────────────┼──────────┼─────────┼──────────┼─────────┼─────────────┼────────────┼────────────┤\n",
            "│ 6 │     SVM      │  0.7604  │ 0.0116  │  0.7052  │ 0.0185  │   0.5224    │   0.0422   │    8.0     │\n",
            "├───┼──────────────┼──────────┼─────────┼──────────┼─────────┼─────────────┼────────────┼────────────┤\n",
            "│ 7 │    FS_SVM    │  0.7604  │ 0.0161  │  0.7035  │ 0.0179  │   0.5149    │   0.0308   │    2.0     │\n",
            "├───┼──────────────┼──────────┼─────────┼──────────┼─────────┼─────────────┼────────────┼────────────┤\n",
            "│ 8 │    AE_SVM    │  0.7240  │ 0.0064  │  0.6426  │ 0.0071  │   0.3731    │   0.0106   │    2.0     │\n",
            "├───┼──────────────┼──────────┼─────────┼──────────┼─────────┼─────────────┼────────────┼────────────┤\n",
            "│ 9 │    kMeans    │  0.6836  │ 0.0144  │  0.6159  │ 0.0208  │   0.3918    │   0.0427   │    8.0     │\n",
            "╘═══╧══════════════╧══════════╧═════════╧══════════╧═════════╧═════════════╧════════════╧════════════╛\n"
          ],
          "name": "stdout"
        }
      ]
    },
    {
      "cell_type": "markdown",
      "metadata": {
        "id": "vcgVafPoQ4ux"
      },
      "source": [
        "### **Ejercicio 2: dataset \"Iris\"**"
      ]
    },
    {
      "cell_type": "code",
      "metadata": {
        "id": "wRiuobIXRDXl"
      },
      "source": [
        "# carga de datos\n",
        "iris = load_iris()\n",
        "# aleatorización\n",
        "X, Y = shuffle(iris.data, iris.target, random_state=0)\n",
        "# defino lista de clasificadores\n",
        "classifiers = [\"clf_NB\",\"clf_MLP\",\"clf_RBF\",\"clf_TREE\",\"clf_RF\",\"clf_SVM\",\"clf_FS_SVM\",\"clf_AE_SVM\",\"clf_kMeans\"]"
      ],
      "execution_count": null,
      "outputs": []
    },
    {
      "cell_type": "markdown",
      "metadata": {
        "id": "R4uME7gRRXe8"
      },
      "source": [
        "**Validación cruzada: particionado simple train/test**"
      ]
    },
    {
      "cell_type": "code",
      "metadata": {
        "id": "J1Gp8B9JRg6m",
        "colab": {
          "base_uri": "https://localhost:8080/",
          "height": 391
        },
        "outputId": "3129ddb5-042e-403d-9486-1b7681d6d959"
      },
      "source": [
        "# validación cruzada: partición train/test\n",
        "X_train, X_test, y_train, y_test = train_test_split(X, Y, test_size=0.3, random_state=0, shuffle=True, stratify=Y)\n",
        "\n",
        "# Estandarización de los datos\n",
        "scaler = StandardScaler()\n",
        "# Ajuste sobre de train\n",
        "scaler.fit(X_train)\n",
        "# transformación de datos train y test\n",
        "X_train = scaler.transform(X_train)\n",
        "X_test = scaler.transform(X_test)\n",
        "vacc = []\n",
        "vuar = []\n",
        "vnf  = []\n",
        "# llamada a cada clasificador con el fold actual\n",
        "for clf in range(0,len(classifiers)):\n",
        "    acc, uar, _, nf = locals()[classifiers[clf]](X_train, X_test, y_train, y_test)\n",
        "    # guardo las medidas de desempeño en un vector\n",
        "    vacc.append(acc)\n",
        "    vuar.append(uar)\n",
        "    vnf.append(nf)\n",
        "\n",
        "# imprimo una tabla con los resultados\n",
        "print(':::                  Simple CV                  :::')\n",
        "table = [[\"Clasificador\",\"ACC\", \"UAR\", \"# Features\"]]\n",
        "for clf in range(0,len(classifiers)):\n",
        "    table.append([ classifiers[clf][4:], '%.4f' % vacc[clf], '%.4f' % vuar[clf], '%1.1f' % vnf[clf] ])\n",
        "print(tabulate(table, tablefmt=\"fancy_grid\", showindex=\"always\",stralign=\"center\"))"
      ],
      "execution_count": null,
      "outputs": [
        {
          "output_type": "stream",
          "text": [
            ":::                  Simple CV                  :::\n",
            "╒═══╤══════════════╤════════╤════════╤════════════╕\n",
            "│ 0 │ Clasificador │  ACC   │  UAR   │ # Features │\n",
            "├───┼──────────────┼────────┼────────┼────────────┤\n",
            "│ 1 │      NB      │ 0.9556 │ 0.9556 │    4.0     │\n",
            "├───┼──────────────┼────────┼────────┼────────────┤\n",
            "│ 2 │     MLP      │ 0.8222 │ 0.8222 │    4.0     │\n",
            "├───┼──────────────┼────────┼────────┼────────────┤\n",
            "│ 3 │     RBF      │ 0.5778 │ 0.5778 │    4.0     │\n",
            "├───┼──────────────┼────────┼────────┼────────────┤\n",
            "│ 4 │     TREE     │ 0.9556 │ 0.9556 │    4.0     │\n",
            "├───┼──────────────┼────────┼────────┼────────────┤\n",
            "│ 5 │      RF      │ 0.9333 │ 0.9333 │    4.0     │\n",
            "├───┼──────────────┼────────┼────────┼────────────┤\n",
            "│ 6 │     SVM      │ 0.9778 │ 0.9778 │    4.0     │\n",
            "├───┼──────────────┼────────┼────────┼────────────┤\n",
            "│ 7 │    FS_SVM    │ 0.9556 │ 0.9556 │    2.0     │\n",
            "├───┼──────────────┼────────┼────────┼────────────┤\n",
            "│ 8 │    AE_SVM    │ 0.9556 │ 0.9556 │    2.0     │\n",
            "├───┼──────────────┼────────┼────────┼────────────┤\n",
            "│ 9 │    kMeans    │ 0.9111 │ 0.9111 │    4.0     │\n",
            "╘═══╧══════════════╧════════╧════════╧════════════╛\n"
          ],
          "name": "stdout"
        }
      ]
    },
    {
      "cell_type": "markdown",
      "metadata": {
        "id": "BGdvLgBmRfF6"
      },
      "source": [
        "**K-Fold Cross Validation**"
      ]
    },
    {
      "cell_type": "code",
      "metadata": {
        "id": "4-wSLZ4ERhZX",
        "colab": {
          "base_uri": "https://localhost:8080/",
          "height": 391
        },
        "outputId": "326bcd97-b0d2-4014-c649-924622d84408"
      },
      "source": [
        "NFfolds = 4   # >=2\n",
        "\n",
        "# inicializo estructuras para guardar resultados\n",
        "Macc = [[] for i in range(len(classifiers))]\n",
        "Muar = [[] for i in range(len(classifiers))]\n",
        "Mnf  = [[] for i in range(len(classifiers))]\n",
        "\n",
        "# Validación cruzada K-Fold (estratificada / no estratificada)\n",
        "\n",
        "kf = KFold(n_splits=NFfolds)                            # non Stratified KFold\n",
        "# kf = StratifiedKFold(n_splits=NFfolds)                # Stratified KFold\n",
        "\n",
        "for train_index, test_index in kf.split(X):\n",
        "\n",
        "    # asigno datos y etiquetas segun los índices del fold\n",
        "    X_train, X_test = X[train_index], X[test_index]\n",
        "    y_train, y_test = Y[train_index], Y[test_index]\n",
        "\n",
        "    # Estandarización de los datos (sobre cada fold)\n",
        "    scaler = StandardScaler()\n",
        "    # Ajuste sobre de train\n",
        "    scaler.fit(X_train)\n",
        "    # transformación de datos train y test\n",
        "    X_train = scaler.transform(X_train)\n",
        "    X_test = scaler.transform(X_test)\n",
        "\n",
        "    # llamada a cada clasificador con el fold actual\n",
        "    for clf in range(0,len(classifiers)):\n",
        "        acc, uar, _, nf = locals()[classifiers[clf]](X_train, X_test, y_train, y_test)\n",
        "        # guardo las medidas de desempeño en un vector\n",
        "        Macc[clf].append(acc)\n",
        "        Muar[clf].append(uar)\n",
        "        Mnf[clf].append(nf)\n",
        "\n",
        "# conversión a array\n",
        "Macc = np.array(Macc)\n",
        "Muar = np.array(Muar)\n",
        "Mnf  = np.array(Mnf)\n",
        "# estadísticas de desempeño\n",
        "acc_mean = np.mean(Macc,axis=1)\n",
        "uar_mean = np.mean(Muar,axis=1)\n",
        "nf_mean  = np.mean(Mnf,axis=1)\n",
        "acc_std = np.std(Macc,axis=1)\n",
        "uar_std = np.std(Muar,axis=1)\n",
        "\n",
        "# imprimo una tabla con los resultados\n",
        "print(':::                            k-Ffold CV                               :::')\n",
        "table = [[\"Clasificador\",\"ACC Mean\",\"ACC STD\",\"UAR Mean\",\"UAR STD\", \"# Features\"]]\n",
        "for clf in range(0,len(classifiers)):\n",
        "    table.append([classifiers[clf][4:], '%.4f' % acc_mean[clf], '%.4f' % acc_std[clf], '%.4f' % uar_mean[clf], '%.4f' % uar_std[clf], '%1.1f' % nf_mean[clf]])\n",
        "print(tabulate(table, tablefmt=\"fancy_grid\", showindex=\"always\",stralign=\"center\"))"
      ],
      "execution_count": null,
      "outputs": [
        {
          "output_type": "stream",
          "text": [
            ":::                            k-Ffold CV                               :::\n",
            "╒═══╤══════════════╤══════════╤═════════╤══════════╤═════════╤════════════╕\n",
            "│ 0 │ Clasificador │ ACC Mean │ ACC STD │ UAR Mean │ UAR STD │ # Features │\n",
            "├───┼──────────────┼──────────┼─────────┼──────────┼─────────┼────────────┤\n",
            "│ 1 │      NB      │  0.9534  │ 0.0218  │  0.9551  │ 0.0213  │    4.0     │\n",
            "├───┼──────────────┼──────────┼─────────┼──────────┼─────────┼────────────┤\n",
            "│ 2 │     MLP      │  0.7536  │ 0.1299  │  0.7532  │ 0.1282  │    4.0     │\n",
            "├───┼──────────────┼──────────┼─────────┼──────────┼─────────┼────────────┤\n",
            "│ 3 │     RBF      │  0.7728  │ 0.0909  │  0.7810  │ 0.0860  │    4.0     │\n",
            "├───┼──────────────┼──────────┼─────────┼──────────┼─────────┼────────────┤\n",
            "│ 4 │     TREE     │  0.9403  │ 0.0430  │  0.9402  │ 0.0443  │    4.0     │\n",
            "├───┼──────────────┼──────────┼─────────┼──────────┼─────────┼────────────┤\n",
            "│ 5 │      RF      │  0.9602  │ 0.0438  │  0.9610  │ 0.0433  │    4.0     │\n",
            "├───┼──────────────┼──────────┼─────────┼──────────┼─────────┼────────────┤\n",
            "│ 6 │     SVM      │  0.9600  │ 0.0295  │  0.9610  │ 0.0294  │    4.0     │\n",
            "├───┼──────────────┼──────────┼─────────┼──────────┼─────────┼────────────┤\n",
            "│ 7 │    FS_SVM    │  0.9667  │ 0.0344  │  0.9679  │ 0.0333  │    2.0     │\n",
            "├───┼──────────────┼──────────┼─────────┼──────────┼─────────┼────────────┤\n",
            "│ 8 │    AE_SVM    │  0.8871  │ 0.0383  │  0.8884  │ 0.0393  │    2.0     │\n",
            "├───┼──────────────┼──────────┼─────────┼──────────┼─────────┼────────────┤\n",
            "│ 9 │    kMeans    │  0.8535  │ 0.0808  │  0.8568  │ 0.0771  │    4.0     │\n",
            "╘═══╧══════════════╧══════════╧═════════╧══════════╧═════════╧════════════╛\n"
          ],
          "name": "stdout"
        }
      ]
    },
    {
      "cell_type": "markdown",
      "metadata": {
        "id": "vNc8NpvcSJmR"
      },
      "source": [
        "***Repetimos empleando las dos primeras componentes principales***"
      ]
    },
    {
      "cell_type": "markdown",
      "metadata": {
        "id": "-ObeuQYKTQhM"
      },
      "source": [
        "**Validación cruzada: particionado simple train/test**"
      ]
    },
    {
      "cell_type": "code",
      "metadata": {
        "id": "0xp8ONusTYQg",
        "colab": {
          "base_uri": "https://localhost:8080/",
          "height": 391
        },
        "outputId": "9bab7a3a-ce5e-4200-cd21-78692e6ec129"
      },
      "source": [
        "# validación cruzada: partición train/test #\n",
        "\n",
        "X_train, X_test, y_train, y_test = train_test_split(X, Y, test_size=0.3, random_state=0, shuffle=True, stratify=Y)\n",
        "\n",
        "# Estandarización de los datos\n",
        "scaler = StandardScaler()\n",
        "# Ajuste sobre de train\n",
        "scaler.fit(X_train)\n",
        "# transformación de datos train y test\n",
        "X_train = scaler.transform(X_train)\n",
        "X_test = scaler.transform(X_test)\n",
        "\n",
        "# PCA: reducción dimensional\n",
        "pca = PCA(n_components=2)\n",
        "# Ajuste sobre de train\n",
        "pca.fit(X_train)\n",
        "# transformación de datos train y test\n",
        "X_train = pca.transform(X_train)\n",
        "X_test = pca.transform(X_test)\n",
        "\n",
        "vacc = []\n",
        "vuar = []\n",
        "vnf  = []\n",
        "\n",
        "# llamada a cada clasificador con el fold actual\n",
        "for clf in range(0,len(classifiers)):\n",
        "    acc, uar, _, nf = locals()[classifiers[clf]](X_train, X_test, y_train, y_test)\n",
        "    # guardo las medidas de desempeño en un vector\n",
        "    vacc.append(acc)\n",
        "    vuar.append(uar)\n",
        "    vnf.append(nf)\n",
        "\n",
        "# imprimo una tabla con los resultados\n",
        "print(':::                  Simple CV                  :::')\n",
        "table = [[\"Clasificador\",\"ACC\", \"UAR\", \"# Features\"]]\n",
        "for clf in range(0,len(classifiers)):\n",
        "    table.append([ classifiers[clf][4:], '%.4f' % vacc[clf], '%.4f' % vuar[clf], '%1.1f' % vnf[clf] ])\n",
        "print(tabulate(table, tablefmt=\"fancy_grid\", showindex=\"always\",stralign=\"center\"))"
      ],
      "execution_count": null,
      "outputs": [
        {
          "output_type": "stream",
          "text": [
            ":::                  Simple CV                  :::\n",
            "╒═══╤══════════════╤════════╤════════╤════════════╕\n",
            "│ 0 │ Clasificador │  ACC   │  UAR   │ # Features │\n",
            "├───┼──────────────┼────────┼────────┼────────────┤\n",
            "│ 1 │      NB      │ 0.8667 │ 0.8667 │    2.0     │\n",
            "├───┼──────────────┼────────┼────────┼────────────┤\n",
            "│ 2 │     MLP      │ 0.6667 │ 0.6667 │    2.0     │\n",
            "├───┼──────────────┼────────┼────────┼────────────┤\n",
            "│ 3 │     RBF      │ 0.8889 │ 0.8889 │    2.0     │\n",
            "├───┼──────────────┼────────┼────────┼────────────┤\n",
            "│ 4 │     TREE     │ 0.9333 │ 0.9333 │    2.0     │\n",
            "├───┼──────────────┼────────┼────────┼────────────┤\n",
            "│ 5 │      RF      │ 0.9333 │ 0.9333 │    2.0     │\n",
            "├───┼──────────────┼────────┼────────┼────────────┤\n",
            "│ 6 │     SVM      │ 0.9556 │ 0.9556 │    2.0     │\n",
            "├───┼──────────────┼────────┼────────┼────────────┤\n",
            "│ 7 │    FS_SVM    │ 0.9556 │ 0.9556 │    2.0     │\n",
            "├───┼──────────────┼────────┼────────┼────────────┤\n",
            "│ 8 │    AE_SVM    │ 0.9556 │ 0.9556 │    2.0     │\n",
            "├───┼──────────────┼────────┼────────┼────────────┤\n",
            "│ 9 │    kMeans    │ 0.8667 │ 0.8667 │    2.0     │\n",
            "╘═══╧══════════════╧════════╧════════╧════════════╛\n"
          ],
          "name": "stdout"
        }
      ]
    },
    {
      "cell_type": "markdown",
      "metadata": {
        "id": "9Yoc7MMITSiS"
      },
      "source": [
        "**K-Fold Cross Validation**"
      ]
    },
    {
      "cell_type": "code",
      "metadata": {
        "id": "6EWVwjVwTLCY",
        "colab": {
          "base_uri": "https://localhost:8080/",
          "height": 391
        },
        "outputId": "4d455201-054c-43fc-ad5c-f659c6e297b3"
      },
      "source": [
        "## K-Folds Cross Validation ##\n",
        "\n",
        "NFfolds = 5   # >=2\n",
        "Macc = [[] for i in range(len(classifiers))]\n",
        "Muar = [[] for i in range(len(classifiers))]\n",
        "Mnf  = [[] for i in range(len(classifiers))]\n",
        "\n",
        "kf = KFold(n_splits=NFfolds)                            # non Stratified KFold\n",
        "# kf = StratifiedKFold(n_splits=NFfolds)                # Stratified KFold\n",
        "\n",
        "for train_index, test_index in kf.split(X):\n",
        "\n",
        "    # asigno datos y etiquetas segun los índices del fold\n",
        "    X_train, X_test = X[train_index], X[test_index]\n",
        "    y_train, y_test = Y[train_index], Y[test_index]\n",
        "\n",
        "    # Estandarización de los datos (sobre cada fold)\n",
        "    scaler = StandardScaler()\n",
        "    # Ajuste sobre de train\n",
        "    scaler.fit(X_train)\n",
        "    # transformación de datos train y test\n",
        "    X_train = scaler.transform(X_train)\n",
        "    X_test = scaler.transform(X_test)\n",
        "\n",
        "    # PCA: reducción dimensional\n",
        "    pca = PCA(n_components=2)\n",
        "    # Ajuste sobre de train\n",
        "    pca.fit(X_train)\n",
        "    # transformación de datos train y test\n",
        "    X_PC_train = pca.transform(X_train)\n",
        "    X_PC_test = pca.transform(X_test)\n",
        "\n",
        "    # llamada a cada clasificador con el fold actual\n",
        "    for clf in range(0,len(classifiers)):\n",
        "        acc, uar, _, nf = locals()[classifiers[clf]](X_PC_train, X_PC_test, y_train, y_test)\n",
        "        # guardo las medidas de desempeño en un vector\n",
        "        Macc[clf].append(acc)\n",
        "        Muar[clf].append(uar)\n",
        "        Mnf[clf].append(nf)\n",
        "\n",
        "# convierto a array\n",
        "Macc = np.array(Macc)\n",
        "Muar = np.array(Muar)\n",
        "Mnf  = np.array(Mnf)\n",
        "# calculo estadísticas\n",
        "acc_mean = np.mean(Macc,axis=1)\n",
        "uar_mean = np.mean(Muar,axis=1)\n",
        "nf_mean  = np.mean(Mnf,axis=1)\n",
        "acc_std = np.std(Macc,axis=1)\n",
        "uar_std = np.std(Muar,axis=1)\n",
        "\n",
        "print(':::                            k-Ffold CV                               :::')\n",
        "# imprimo una tabla con los resultados\n",
        "table = [[\"Clasificador\",\"ACC Mean\",\"ACC STD\",\"UAR Mean\",\"UAR STD\", \"# Features\"]]\n",
        "for clf in range(0,len(classifiers)):\n",
        "    table.append([classifiers[clf][4:], '%.4f' % acc_mean[clf], '%.4f' % acc_std[clf], '%.4f' % uar_mean[clf], '%.4f' % uar_std[clf], '%1.1f' % nf_mean[clf] ])\n",
        "print(tabulate(table, tablefmt=\"fancy_grid\", showindex=\"always\",stralign=\"center\"))"
      ],
      "execution_count": null,
      "outputs": [
        {
          "output_type": "stream",
          "text": [
            ":::                            k-Ffold CV                               :::\n",
            "╒═══╤══════════════╤══════════╤═════════╤══════════╤═════════╤════════════╕\n",
            "│ 0 │ Clasificador │ ACC Mean │ ACC STD │ UAR Mean │ UAR STD │ # Features │\n",
            "├───┼──────────────┼──────────┼─────────┼──────────┼─────────┼────────────┤\n",
            "│ 1 │      NB      │  0.8800  │ 0.0533  │  0.8800  │ 0.0533  │    2.0     │\n",
            "├───┼──────────────┼──────────┼─────────┼──────────┼─────────┼────────────┤\n",
            "│ 2 │     MLP      │  0.5933  │ 0.1667  │  0.5933  │ 0.1667  │    2.0     │\n",
            "├───┼──────────────┼──────────┼─────────┼──────────┼─────────┼────────────┤\n",
            "│ 3 │     RBF      │  0.6400  │ 0.0133  │  0.6400  │ 0.0133  │    2.0     │\n",
            "├───┼──────────────┼──────────┼─────────┼──────────┼─────────┼────────────┤\n",
            "│ 4 │     TREE     │  0.8867  │ 0.0333  │  0.8867  │ 0.0333  │    2.0     │\n",
            "├───┼──────────────┼──────────┼─────────┼──────────┼─────────┼────────────┤\n",
            "│ 5 │      RF      │  0.8800  │ 0.0400  │  0.8800  │ 0.0400  │    2.0     │\n",
            "├───┼──────────────┼──────────┼─────────┼──────────┼─────────┼────────────┤\n",
            "│ 6 │     SVM      │  0.8867  │ 0.0333  │  0.8867  │ 0.0333  │    2.0     │\n",
            "├───┼──────────────┼──────────┼─────────┼──────────┼─────────┼────────────┤\n",
            "│ 7 │    FS_SVM    │  0.8867  │ 0.0333  │  0.8867  │ 0.0333  │    2.0     │\n",
            "├───┼──────────────┼──────────┼─────────┼──────────┼─────────┼────────────┤\n",
            "│ 8 │    AE_SVM    │  0.8667  │ 0.0533  │  0.8667  │ 0.0533  │    2.0     │\n",
            "├───┼──────────────┼──────────┼─────────┼──────────┼─────────┼────────────┤\n",
            "│ 9 │    kMeans    │  0.8400  │ 0.0667  │  0.8400  │ 0.0667  │    2.0     │\n",
            "╘═══╧══════════════╧══════════╧═════════╧══════════╧═════════╧════════════╛\n"
          ],
          "name": "stdout"
        }
      ]
    },
    {
      "cell_type": "markdown",
      "metadata": {
        "id": "GMkzHKEcUSfE"
      },
      "source": [
        "**Graficación de los datos proyectados**"
      ]
    },
    {
      "cell_type": "code",
      "metadata": {
        "id": "zVm8d6xdUTD_",
        "colab": {
          "base_uri": "https://localhost:8080/",
          "height": 297
        },
        "outputId": "84b7a38a-f242-4039-8b71-0a282c058d6f"
      },
      "source": [
        "# Scatter plots empleando el último fold\n",
        "\n",
        "# PCA: PC1 y PC2\n",
        "fig, ([fig1, fig2], [fig3, fig4]) = plt.subplots(nrows=2,ncols=2)\n",
        "\n",
        "fig1.scatter(X_PC_train[:,0], X_PC_train[:,1], s=50, c=y_train, marker=\"o\")\n",
        "fig1.set_xlabel(\"PC1\")\n",
        "fig1.set_ylabel(\"PC2\")\n",
        "fig1.set_title(\"Train Data\")\n",
        "fig2.scatter(X_PC_test[:,0],  X_PC_test[:,1],  s=50, c=y_test, marker=\"o\")\n",
        "fig2.set_xlabel(\"PC1\")\n",
        "fig2.set_ylabel(\"PC2\")\n",
        "fig2.set_title(\"Test Data\")\n",
        "\n",
        "# Representaciones latentes Auto-Enconder\n",
        "_, _, _, _ = clf_AE_SVM(X_train, X_test, y_train, y_test, plot=True, ax1=fig3, ax2=fig4)\n",
        "\n",
        "plt.draw()\n",
        "plt.tight_layout(pad=1.08)\n",
        "plt.show()"
      ],
      "execution_count": null,
      "outputs": [
        {
          "output_type": "display_data",
          "data": {
            "image/png": "[encoded data removed]",
            "text/plain": [
              "<Figure size 432x288 with 4 Axes>"
            ]
          },
          "metadata": {
            "tags": [],
            "needs_background": "light"
          }
        }
      ]
    },
    {
      "cell_type": "markdown",
      "metadata": {
        "id": "ovHQ9c0-U96-"
      },
      "source": [
        "### **Ejercicio 3: dataset \"Leukemia\"**"
      ]
    },
    {
      "cell_type": "code",
      "metadata": {
        "id": "Xa9mW_vnVT0i"
      },
      "source": [
        "# Carga de datos y preprocesamiento\n",
        "# Leukemia\n",
        "\n",
        "data_train = pd.read_csv('http://tsam-fich.wikidot.com/local--files/apuntes/leukemia_train.csv', header=None)\n",
        "data_test  = pd.read_csv('http://tsam-fich.wikidot.com/local--files/apuntes/leukemia_test.csv', header=None)\n",
        "\n",
        "# separo patrones en X y etiquetas en Y para train y test\n",
        "X_train = np.array(data_train)[:,:-1]           # patrones train\n",
        "y_train = np.ravel(np.array(data_train)[:,-1:]) # etiquetas train\n",
        "X_test = np.array(data_test)[:,:-1]             # patrones test\n",
        "y_test = np.ravel(np.array(data_test)[:,-1:])   # etiquetas test\n",
        "\n",
        "# Estandarización\n",
        "scaler = StandardScaler()\n",
        "# Ajuste sobre de train\n",
        "scaler.fit(X_train)\n",
        "# transformación de datos train y test\n",
        "X_train = scaler.transform(X_train)\n",
        "X_test = scaler.transform(X_test)\n",
        "\n",
        "# defino lista de clasificadores\n",
        "classifiers = [\"clf_NB\",\"clf_MLP\",\"clf_RBF\",\"clf_TREE\",\"clf_RF\",\"clf_SVM\",\"clf_kMeans\"]"
      ],
      "execution_count": null,
      "outputs": []
    },
    {
      "cell_type": "markdown",
      "metadata": {
        "id": "j07-ErA0V_wj"
      },
      "source": [
        "**Evaluación de desempeño de los clasificadores empleando las 7129 características**"
      ]
    },
    {
      "cell_type": "code",
      "metadata": {
        "id": "lNysDpjTWZbz",
        "colab": {
          "base_uri": "https://localhost:8080/",
          "height": 340
        },
        "outputId": "de07ee8b-805e-4d05-da8f-a42aacbd66d1"
      },
      "source": [
        "vacc = []\n",
        "vuar = []\n",
        "vrec = []\n",
        "vnf  = []\n",
        "\n",
        "start_time = time.time()\n",
        "for clf in range(0,len(classifiers)):\n",
        "    acc, uar, rec, nf = locals()[classifiers[clf]](X_train, X_test, y_train, y_test)\n",
        "    vacc.append(acc)\n",
        "    vuar.append(uar)\n",
        "    vrec.append(rec)\n",
        "    vnf.append(nf)\n",
        "\n",
        "elapsed_time = time.time() - start_time\n",
        "\n",
        "print(':::          Complete Feature Set             :::')\n",
        "table = [[\"Clasificador\",\"Accuracy\",\"UAR\", \"# Features\"]]\n",
        "for clf in range(0,len(classifiers)):\n",
        "    table.append([classifiers[clf][4:], '%.4f' % vacc[clf], '%.4f' % vuar[clf], vnf[clf] ])\n",
        "print(tabulate(table, tablefmt=\"fancy_grid\", stralign=\"center\"))\n",
        "print(\"Tiempo Total Clasificadores: \", '%.4f' % elapsed_time)"
      ],
      "execution_count": null,
      "outputs": [
        {
          "output_type": "stream",
          "text": [
            ":::          Complete Feature Set             :::\n",
            "╒══════════════╤══════════╤════════╤════════════╕\n",
            "│ Clasificador │ Accuracy │  UAR   │ # Features │\n",
            "├──────────────┼──────────┼────────┼────────────┤\n",
            "│      NB      │  0.9118  │ 0.9143 │    7129    │\n",
            "├──────────────┼──────────┼────────┼────────────┤\n",
            "│     MLP      │  0.8529  │ 0.8750 │    7129    │\n",
            "├──────────────┼──────────┼────────┼────────────┤\n",
            "│     RBF      │  0.5882  │ 0.5000 │    7129    │\n",
            "├──────────────┼──────────┼────────┼────────────┤\n",
            "│     TREE     │  0.9118  │ 0.9143 │    7129    │\n",
            "├──────────────┼──────────┼────────┼────────────┤\n",
            "│      RF      │  0.7647  │ 0.7143 │    7129    │\n",
            "├──────────────┼──────────┼────────┼────────────┤\n",
            "│     SVM      │  0.8235  │ 0.7857 │    7129    │\n",
            "├──────────────┼──────────┼────────┼────────────┤\n",
            "│    kMeans    │  0.6765  │ 0.6071 │    7129    │\n",
            "╘══════════════╧══════════╧════════╧════════════╛\n",
            "Tiempo Total Clasificadores:  1.9803\n"
          ],
          "name": "stdout"
        }
      ]
    },
    {
      "cell_type": "markdown",
      "metadata": {
        "id": "pyc2q5ArWe45"
      },
      "source": [
        "**Selección de características mediante método de ranking basado en ANOVA F-value**\n"
      ]
    },
    {
      "cell_type": "code",
      "metadata": {
        "id": "qWCPkHhrXEMT",
        "colab": {
          "base_uri": "https://localhost:8080/",
          "height": 357
        },
        "outputId": "f4090189-c3f2-4030-af1e-b396658b77df"
      },
      "source": [
        "# defino el método de ranking con criterio de ANOVA F (f_classif)\n",
        "FS = SelectKBest(f_classif, k=20)    # definir cuántas características se desean seleccionar\n",
        "\n",
        "start_time = time.time()\n",
        "# realizo la selección en base a datos de train\n",
        "FS = FS.fit(X_train, y_train)\n",
        "elapsed_time = time.time() - start_time\n",
        "# aplico la selección en train y test\n",
        "X_train_new = FS.transform(X_train)\n",
        "X_test_new  = FS.transform(X_test)\n",
        "\n",
        "vacc = []\n",
        "vuar = []\n",
        "vnf  = []\n",
        "\n",
        "start_time = time.time()\n",
        "# Evaluación de clasificadores con las características seleccionadas\n",
        "for clf in range(0,len(classifiers)):\n",
        "    acc, uar, _, nf = locals()[classifiers[clf]](X_train_new, X_test_new, y_train, y_test)\n",
        "    vacc.append(acc)\n",
        "    vuar.append(uar)\n",
        "    vnf.append(nf)\n",
        "\n",
        "elapsed_time_2 = time.time() - start_time\n",
        "\n",
        "print(':::   K-Best Ranking based on ANOVA F-value   :::')\n",
        "table = [[\"Clasificador\",\"Accuracy\",\"UAR\", \"# Features\"]]\n",
        "for clf in range(0,len(classifiers)):\n",
        "    table.append([classifiers[clf][4:], '%.4f' % vacc[clf], '%.4f' % vuar[clf],  vnf[clf] ])\n",
        "print(tabulate(table, tablefmt=\"fancy_grid\", stralign=\"center\"))\n",
        "print(\"Tiempo Selección de Características: \", '%.4f' % elapsed_time)\n",
        "print(\"Tiempo Total Clasificadores: \", '%.4f' % elapsed_time_2)"
      ],
      "execution_count": null,
      "outputs": [
        {
          "output_type": "stream",
          "text": [
            ":::   K-Best Ranking based on ANOVA F-value   :::\n",
            "╒══════════════╤══════════╤════════╤════════════╕\n",
            "│ Clasificador │ Accuracy │  UAR   │ # Features │\n",
            "├──────────────┼──────────┼────────┼────────────┤\n",
            "│      NB      │  0.9412  │ 0.9393 │     20     │\n",
            "├──────────────┼──────────┼────────┼────────────┤\n",
            "│     MLP      │  0.9412  │ 0.9393 │     20     │\n",
            "├──────────────┼──────────┼────────┼────────────┤\n",
            "│     RBF      │  0.8529  │ 0.8643 │     20     │\n",
            "├──────────────┼──────────┼────────┼────────────┤\n",
            "│     TREE     │  0.9118  │ 0.9143 │     20     │\n",
            "├──────────────┼──────────┼────────┼────────────┤\n",
            "│      RF      │  0.8824  │ 0.8571 │     20     │\n",
            "├──────────────┼──────────┼────────┼────────────┤\n",
            "│     SVM      │  0.8529  │ 0.8214 │     20     │\n",
            "├──────────────┼──────────┼────────┼────────────┤\n",
            "│    kMeans    │  0.9118  │ 0.8929 │     20     │\n",
            "╘══════════════╧══════════╧════════╧════════════╛\n",
            "Tiempo Selección de Características:  0.0141\n",
            "Tiempo Total Clasificadores:  0.3770\n"
          ],
          "name": "stdout"
        }
      ]
    },
    {
      "cell_type": "markdown",
      "metadata": {
        "id": "4-cu3Fp-XSBF"
      },
      "source": [
        "**Selección de características mediante el método Eliminación Recursiva (RFE) empleando SVM lineal**\n"
      ]
    },
    {
      "cell_type": "code",
      "metadata": {
        "id": "nKyqp-W4XmjH",
        "colab": {
          "base_uri": "https://localhost:8080/",
          "height": 357
        },
        "outputId": "6567e271-a4e8-4396-d4f3-84ae0274b4f0"
      },
      "source": [
        "# Defino método de evaluación\n",
        "estimator = LinearSVC(random_state=0, tol=1e-5)\n",
        "# Defino método de búsqueda\n",
        "FS = RFE(estimator, n_features_to_select=20,       # definir cuántas características se desean seleccionar\n",
        "         step=1)                                   # definir cuántas características se eliminan en cada iteración\n",
        "\n",
        "start_time = time.time()\n",
        "# Selección de características sobre datos de train\n",
        "FS = FS.fit(X_train, y_train)\n",
        "elapsed_time = time.time() - start_time\n",
        "# Aplico selección en train y test\n",
        "X_train_new = FS.transform(X_train)\n",
        "X_test_new  = FS.transform(X_test)\n",
        "\n",
        "vacc = []\n",
        "vuar = []\n",
        "vnf  = []\n",
        "\n",
        "start_time = time.time()\n",
        "# Evaluación de clasificadores con las características seleccionadas\n",
        "for clf in range(0,len(classifiers)):\n",
        "    acc, uar, _, nf = locals()[classifiers[clf]](X_train_new, X_test_new, y_train, y_test)\n",
        "    vacc.append(acc)\n",
        "    vuar.append(uar)\n",
        "    vnf.append(nf)\n",
        "elapsed_time_2 = time.time() - start_time\n",
        "\n",
        "print(':::             RFE - linear SVM              :::')\n",
        "table = [[\"Clasificador\",\"Accuracy\",\"UAR\", \"# Features\"]]\n",
        "for clf in range(0,len(classifiers)):\n",
        "    table.append([classifiers[clf][4:], '%.4f' % vacc[clf], '%.4f' % vuar[clf], vnf[clf] ])\n",
        "print(tabulate(table, tablefmt=\"fancy_grid\", stralign=\"center\"))\n",
        "print(\"Tiempo Selección de Características: \", '%.4f' % elapsed_time)\n",
        "print(\"Tiempo Total Clasificadores: \", '%.4f' % elapsed_time_2)"
      ],
      "execution_count": null,
      "outputs": [
        {
          "output_type": "stream",
          "text": [
            ":::             RFE - linear SVM              :::\n",
            "╒══════════════╤══════════╤════════╤════════════╕\n",
            "│ Clasificador │ Accuracy │  UAR   │ # Features │\n",
            "├──────────────┼──────────┼────────┼────────────┤\n",
            "│      NB      │  0.8824  │ 0.9000 │     20     │\n",
            "├──────────────┼──────────┼────────┼────────────┤\n",
            "│     MLP      │  0.9706  │ 0.9643 │     20     │\n",
            "├──────────────┼──────────┼────────┼────────────┤\n",
            "│     RBF      │  0.5882  │ 0.5000 │     20     │\n",
            "├──────────────┼──────────┼────────┼────────────┤\n",
            "│     TREE     │  0.9118  │ 0.9143 │     20     │\n",
            "├──────────────┼──────────┼────────┼────────────┤\n",
            "│      RF      │  0.8529  │ 0.8321 │     20     │\n",
            "├──────────────┼──────────┼────────┼────────────┤\n",
            "│     SVM      │  0.9706  │ 0.9643 │     20     │\n",
            "├──────────────┼──────────┼────────┼────────────┤\n",
            "│    kMeans    │  0.9706  │ 0.9643 │     20     │\n",
            "╘══════════════╧══════════╧════════╧════════════╛\n",
            "Tiempo Selección de Características:  75.0196\n",
            "Tiempo Total Clasificadores:  0.3771\n"
          ],
          "name": "stdout"
        }
      ]
    },
    {
      "cell_type": "markdown",
      "metadata": {
        "id": "1wRHlcHBL0Eg"
      },
      "source": [
        "**Selección de características mediante el método Relief**\n"
      ]
    },
    {
      "cell_type": "code",
      "metadata": {
        "id": "Zi0AWdpaI5-X",
        "colab": {
          "base_uri": "https://localhost:8080/",
          "height": 357
        },
        "outputId": "b6c03299-8c4f-4e7b-f072-2e9ccc30898d"
      },
      "source": [
        "# Selección de características mediante Relief\n",
        "\n",
        "FS = relief.Relief(n_features=20) # definir cuántas características se desean seleccionar\n",
        "\n",
        "start_time = time.time()\n",
        "# Selección de características sobre datos de train\n",
        "FS = FS.fit(X_train, y_train)\n",
        "elapsed_time = time.time() - start_time\n",
        "# Aplico selección en train y test\n",
        "X_train_new = FS.transform(X_train)\n",
        "X_test_new  = FS.transform(X_test)\n",
        "\n",
        "vacc = []\n",
        "vuar = []\n",
        "vnf  = []\n",
        "\n",
        "start_time = time.time()\n",
        "# Evaluación de clasificadores con las características seleccionadas\n",
        "for clf in range(0,len(classifiers)):\n",
        "    acc, uar, _, nf = locals()[classifiers[clf]](X_train_new, X_test_new, y_train, y_test)\n",
        "    vacc.append(acc)\n",
        "    vuar.append(uar)\n",
        "    vnf.append(nf)\n",
        "elapsed_time_2 = time.time() - start_time\n",
        "\n",
        "print(':::                  Relief                   :::')\n",
        "table = [[\"Clasificador\",\"Accuracy\",\"UAR\", \"# Features\"]]\n",
        "for clf in range(0,len(classifiers)):\n",
        "    table.append([classifiers[clf][4:], '%.4f' % vacc[clf], '%.4f' % vuar[clf], vnf[clf] ])\n",
        "print(tabulate(table, tablefmt=\"fancy_grid\", stralign=\"center\"))\n",
        "print(\"Tiempo Selección de Características: \", '%.4f' % elapsed_time)\n",
        "print(\"Tiempo Total Clasificadores: \", '%.4f' % elapsed_time_2)"
      ],
      "execution_count": null,
      "outputs": [
        {
          "output_type": "stream",
          "text": [
            ":::                  Relief                   :::\n",
            "╒══════════════╤══════════╤════════╤════════════╕\n",
            "│ Clasificador │ Accuracy │  UAR   │ # Features │\n",
            "├──────────────┼──────────┼────────┼────────────┤\n",
            "│      NB      │  0.7941  │ 0.8143 │     20     │\n",
            "├──────────────┼──────────┼────────┼────────────┤\n",
            "│     MLP      │  0.7647  │ 0.7571 │     20     │\n",
            "├──────────────┼──────────┼────────┼────────────┤\n",
            "│     RBF      │  0.5000  │ 0.5536 │     20     │\n",
            "├──────────────┼──────────┼────────┼────────────┤\n",
            "│     TREE     │  0.8235  │ 0.7857 │     20     │\n",
            "├──────────────┼──────────┼────────┼────────────┤\n",
            "│      RF      │  0.7647  │ 0.7250 │     20     │\n",
            "├──────────────┼──────────┼────────┼────────────┤\n",
            "│     SVM      │  0.7647  │ 0.7357 │     20     │\n",
            "├──────────────┼──────────┼────────┼────────────┤\n",
            "│    kMeans    │  0.7647  │ 0.7464 │     20     │\n",
            "╘══════════════╧══════════╧════════╧════════════╛\n",
            "Tiempo Selección de Características:  5.5361\n",
            "Tiempo Total Clasificadores:  0.3850\n"
          ],
          "name": "stdout"
        }
      ]
    }
  ]
}